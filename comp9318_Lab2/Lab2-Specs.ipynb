{
 "cells": [
  {
   "cell_type": "markdown",
   "metadata": {},
   "source": [
    "# COMP9318 Lab2"
   ]
  },
  {
   "cell_type": "markdown",
   "metadata": {
    "collapsed": true
   },
   "source": [
    "## Instructions\n",
    "1. This note book contains instructions for **COMP9318-lab2**.\n",
    "\n",
    "* You are required to complete your implementation in a file `submission.py` provided along with this notebook.\n",
    "\n",
    "* You are not allowed to print out unnecessary stuff. We will not consider any output printed out on the screen. All results should be returned in appropriate data structures return by corresponding functions.\n",
    "\n",
    "* You need to submit the code for **lab2** via following link: http://kg.cse.unsw.edu.au:8318/lab2/ .\n",
    "\n",
    "* For each question, we have provided you with detailed instructions along with question headings. In case of any problem, you can post your query @ Piazza.\n",
    "\n",
    "* If you choose to skip a question, leave the corresponding function body as it is (i.e., keep the `pass` line), otherwise it may affect your mark for other questions.\n",
    "\n",
    "* You are allowed to add other functions and/or import additional modules (you may have to in this lab), but you are not allowed to define global variables. **Only functions are allowed** in `submission.py`. \n",
    "\n",
    "* You should not import unnecessary modules/libraries, failing to import such modules at test time will lead to errors.\n",
    "\n",
    "* We will provide immediate feedback on your submission. You can access your scores using the online submission portal on the same day. \n",
    "\n",
    "* For **Final Evaluation** we will be using a different dataset, so your final scores may vary.  \n",
    "\n",
    "* You are allowed to submit as many times as you want before the deadline, but **ONLY the latest version will be kept and marked**.\n",
    "\n",
    "* Submission deadline for this assignment is **11:59:59 PM on 11th April, 2018**. We will **not** accept any late submissions."
   ]
  },
  {
   "cell_type": "markdown",
   "metadata": {},
   "source": [
    "# Question 1: Optimized BUC algorithm (50 points)\n",
    "\n",
    "You need to implement the full `buc_rec_optimized` algorithm with the single-tuple optimization (as described below). Given an input dataframe:\n",
    "\n",
    " A | B | M \n",
    "---|---|---\n",
    " 1 | 2 | 100\n",
    " 2 | 1 | 20\n",
    "\n",
    "Invoking  `buc_rec_optimized` on this data will result in following dataframe: \n",
    "\n",
    "\n",
    " A | B | M\n",
    "---|---|---\n",
    " 1 | 2 | 100\n",
    " 1 |ALL| 100\n",
    " 2 | 1 | 20 \n",
    " 2 |ALL| 20\n",
    "ALL| 1 | 20\n",
    "ALL| 2 | 100\n",
    "ALL|ALL| 120\n",
    "\n",
    "In the file `submission.py`, we have pre-defined the `buc_rec_optimized` function and its helper functions. \n",
    "\n",
    "## Input and output\n",
    "\n",
    "Both input and output are dataframes.\n",
    "\n",
    "The input dataframe (i.e., the base cuboid) is directly generated from the input file. Given the dimensionality of the base cuboid is $d$, each row is like:\n",
    "\n",
    "<pre>\n",
    "v_1  v_2 ...  v_d  m\n",
    "</pre>\n",
    "\n",
    "where v_i is the cell's value on the i-th dimension, and m is the measure value. \n",
    "\n",
    "The output dataframe contains $n$ rows, each for a non-empty cell in the compute data cube derived from the input base cuboid. Each row is formatted like input:\n",
    "\n",
    "<pre>\n",
    "v_1  v_2 ...  v_d  m\n",
    "</pre>\n",
    "\n",
    "where v_i is the cell's value on the i-th dimension, and m is the measure value. \n",
    "\n",
    "\n",
    "## The single-tuple optimization\n",
    "\n",
    "Consider the naive way of recursive implementation of the BUC algorithm, you will notice that it uses several recursive calls to compute all the derived results from an input that consists of only one tuple. This is certainly a waste of computation. \n",
    "\n",
    "For example, if we are asked to compute the cube given the following input\n",
    "\n",
    " B | C | M \n",
    "---|---|---\n",
    " 1 | 2 | 100\n",
    "\n",
    "We can immmediately output the following, **without** using any recursive calls. \n",
    "\n",
    "<pre>\n",
    "1    2    100\n",
    "*    2    100\n",
    "1    *    100\n",
    "*    *    100\n",
    "</pre>\n",
    "\n"
   ]
  },
  {
   "cell_type": "markdown",
   "metadata": {},
   "source": [
    "** Note: For lab-2, you are allowed to use only two libraries, i.e., pandas, and numpy.** "
   ]
  },
  {
   "cell_type": "code",
   "execution_count": 1,
   "metadata": {
    "collapsed": true
   },
   "outputs": [],
   "source": [
    "import pandas as pd\n",
    "import numpy as np"
   ]
  },
  {
   "cell_type": "code",
   "execution_count": 2,
   "metadata": {
    "collapsed": true
   },
   "outputs": [],
   "source": [
    "##============================================================\n",
    "# Data file format: \n",
    "# * tab-delimited input file\n",
    "# * 1st line: dimension names and the last dimension is assumed to be the measure\n",
    "# * rest of the lines: data values.\n",
    "\n",
    "def read_data(filename):\n",
    "    df = pd.read_csv(filename, sep='\\t')\n",
    "    return (df)\n",
    "      \n",
    "# helper functions\n",
    "def project_data(df, d):\n",
    "    # Return only the d-th column of INPUT\n",
    "    return df.iloc[:, d]\n",
    "\n",
    "def select_data(df, d, val):\n",
    "    # SELECT * FROM INPUT WHERE input.d = val\n",
    "    col_name = df.columns[d]\n",
    "    return df[df[col_name] == val]\n",
    "\n",
    "def remove_first_dim(df):\n",
    "    # Remove the first dim of the input\n",
    "    return df.iloc[:, 1:]\n",
    "\n",
    "def slice_data_dim0(df, v):\n",
    "    # syntactic sugar to get R_{ALL} in a less verbose way\n",
    "    df_temp = select_data(df, 0, v)\n",
    "    return remove_first_dim(df_temp)"
   ]
  },
  {
   "cell_type": "code",
   "execution_count": 3,
   "metadata": {
    "collapsed": true
   },
   "outputs": [],
   "source": [
    "def buc_rec_optimized(df):# do not change the heading of the function\n",
    "    pass # **replace** this line with your code "
   ]
  },
  {
   "cell_type": "code",
   "execution_count": 4,
   "metadata": {
    "scrolled": true
   },
   "outputs": [
    {
     "data": {
      "text/html": [
       "<div>\n",
       "<style>\n",
       "    .dataframe thead tr:only-child th {\n",
       "        text-align: right;\n",
       "    }\n",
       "\n",
       "    .dataframe thead th {\n",
       "        text-align: left;\n",
       "    }\n",
       "\n",
       "    .dataframe tbody tr th {\n",
       "        vertical-align: top;\n",
       "    }\n",
       "</style>\n",
       "<table border=\"1\" class=\"dataframe\">\n",
       "  <thead>\n",
       "    <tr style=\"text-align: right;\">\n",
       "      <th></th>\n",
       "      <th>A</th>\n",
       "      <th>B</th>\n",
       "      <th>M</th>\n",
       "    </tr>\n",
       "  </thead>\n",
       "  <tbody>\n",
       "    <tr>\n",
       "      <th>0</th>\n",
       "      <td>1</td>\n",
       "      <td>2</td>\n",
       "      <td>100</td>\n",
       "    </tr>\n",
       "    <tr>\n",
       "      <th>1</th>\n",
       "      <td>1</td>\n",
       "      <td>ALL</td>\n",
       "      <td>100</td>\n",
       "    </tr>\n",
       "    <tr>\n",
       "      <th>2</th>\n",
       "      <td>2</td>\n",
       "      <td>1</td>\n",
       "      <td>20</td>\n",
       "    </tr>\n",
       "    <tr>\n",
       "      <th>3</th>\n",
       "      <td>2</td>\n",
       "      <td>ALL</td>\n",
       "      <td>20</td>\n",
       "    </tr>\n",
       "    <tr>\n",
       "      <th>4</th>\n",
       "      <td>ALL</td>\n",
       "      <td>1</td>\n",
       "      <td>20</td>\n",
       "    </tr>\n",
       "    <tr>\n",
       "      <th>5</th>\n",
       "      <td>ALL</td>\n",
       "      <td>2</td>\n",
       "      <td>100</td>\n",
       "    </tr>\n",
       "    <tr>\n",
       "      <th>6</th>\n",
       "      <td>ALL</td>\n",
       "      <td>ALL</td>\n",
       "      <td>120</td>\n",
       "    </tr>\n",
       "  </tbody>\n",
       "</table>\n",
       "</div>"
      ],
      "text/plain": [
       "     A    B    M\n",
       "0    1    2  100\n",
       "1    1  ALL  100\n",
       "2    2    1   20\n",
       "3    2  ALL   20\n",
       "4  ALL    1   20\n",
       "5  ALL    2  100\n",
       "6  ALL  ALL  120"
      ]
     },
     "execution_count": 4,
     "metadata": {},
     "output_type": "execute_result"
    }
   ],
   "source": [
    "## You can test your implementation using the following code...\n",
    "\n",
    "import submission as submission\n",
    "input_data = read_data('./asset/a_.txt')\n",
    "output = submission.buc_rec_optimized(input_data)\n",
    "output"
   ]
  },
  {
   "cell_type": "markdown",
   "metadata": {},
   "source": [
    "# Question 2: Optimal binning algorithm using dynamic programming (50 points)"
   ]
  },
  {
   "cell_type": "markdown",
   "metadata": {},
   "source": [
    "You need to implement the optimal binning algorithm using the dynamic programming algorithm we discussed in the lecture. You are allowed to use $O(n^2)$ space. \n",
    "\n",
    "## Input\n",
    "\n",
    "The input contains data (in a list) and the number of bins (an integer).\n",
    "\n",
    "## Output\n",
    "\n",
    "You are required to output the binning result and the matrix computed by the algorithm.\n",
    "\n",
    "The matrix entries record optimal binning cost for a suffix of the input array using a certain number of bins. You should assign -1 to all the invalid solutions."
   ]
  },
  {
   "cell_type": "code",
   "execution_count": 4,
   "metadata": {
    "collapsed": true
   },
   "outputs": [],
   "source": [
    "x = [3, 1, 18, 11, 13, 17]\n",
    "num_bins = 4"
   ]
  },
  {
   "cell_type": "code",
   "execution_count": 5,
   "metadata": {
    "collapsed": true
   },
   "outputs": [],
   "source": [
    "def v_opt_dp(x, b):# do not change the heading of the function\n",
    "    pass # **replace** this line with your code    "
   ]
  },
  {
   "cell_type": "code",
   "execution_count": 7,
   "metadata": {},
   "outputs": [
    {
     "name": "stdout",
     "output_type": "stream",
     "text": [
      "Bins = [[3, 1], [18], [11, 13], [17]]\n",
      "Matrix =\n",
      "[-1, -1, -1, 18.666666666666664, 8.0, 0]\n",
      "[-1, -1, 18.666666666666664, 2.0, 0, -1]\n",
      "[-1, 18.666666666666664, 2.0, 0, -1, -1]\n",
      "[4.0, 2.0, 0, -1, -1, -1]\n"
     ]
    }
   ],
   "source": [
    "## You can test your implementation using the following code...\n",
    "\n",
    "import submission as submission\n",
    "matrix, bins = submission.v_opt_dp(x, num_bins)\n",
    "print(\"Bins = {}\".format(bins))\n",
    "print(\"Matrix =\")\n",
    "for row in matrix:\n",
    "    print(row)"
   ]
  },
  {
   "cell_type": "code",
   "execution_count": null,
   "metadata": {
    "collapsed": true
   },
   "outputs": [],
   "source": []
  }
 ],
 "metadata": {
  "kernelspec": {
   "display_name": "Python 3",
   "language": "python",
   "name": "python3"
  },
  "language_info": {
   "codemirror_mode": {
    "name": "ipython",
    "version": 3
   },
   "file_extension": ".py",
   "mimetype": "text/x-python",
   "name": "python",
   "nbconvert_exporter": "python",
   "pygments_lexer": "ipython3",
   "version": "3.6.1"
  }
 },
 "nbformat": 4,
 "nbformat_minor": 1
}
